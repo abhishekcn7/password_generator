{
  "nbformat": 4,
  "nbformat_minor": 0,
  "metadata": {
    "colab": {
      "name": "Random_password_generator.ipynb",
      "provenance": [],
      "authorship_tag": "ABX9TyPLyDbbY2VqK1GI5bqRu1VR",
      "include_colab_link": true
    },
    "kernelspec": {
      "name": "python3",
      "display_name": "Python 3"
    },
    "language_info": {
      "name": "python"
    }
  },
  "cells": [
    {
      "cell_type": "markdown",
      "metadata": {
        "id": "view-in-github",
        "colab_type": "text"
      },
      "source": [
        "<a href=\"https://colab.research.google.com/github/abhishekcn7/password_generator/blob/main/Random_password_generator.ipynb\" target=\"_parent\"><img src=\"https://colab.research.google.com/assets/colab-badge.svg\" alt=\"Open In Colab\"/></a>"
      ]
    },
    {
      "cell_type": "code",
      "metadata": {
        "colab": {
          "base_uri": "https://localhost:8080/"
        },
        "id": "Oxj8o61G08ov",
        "outputId": "9737258d-0511-4316-b2d7-55d7dac3d7ad"
      },
      "source": [
        "import random\n",
        "passlen=int(input(\"Enter the lenght of the password\"))\n",
        "s=\"qwertyuiopasdfghjklzxcvbnmQWERTYUIOPLKJHGFDSAZXCVBNM!@#$\"\n",
        "P=\"\".join(random.sample(s,passlen))\n",
        "print(P)\n",
        "\n"
      ],
      "execution_count": 1,
      "outputs": [
        {
          "output_type": "stream",
          "name": "stdout",
          "text": [
            "Enter the lenght of the password5\n",
            "nquND\n"
          ]
        }
      ]
    }
  ]
}